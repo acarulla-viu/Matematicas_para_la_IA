{
 "cells": [
  {
   "cell_type": "markdown",
   "id": "20aa1085-9a88-4f42-8362-8ab4b126c39c",
   "metadata": {},
   "source": [
    "# Portafolio: Ejercicios evaluables\n",
    "\n",
    "#### Matemáticas para la Inteligencia Artificial\n",
    "\n",
    "Alexandre Carulla Rodes\n",
    "\n",
    "13/07/2025\n",
    "\n",
    "En este documento se encuentra solamente el código desarrollado de los ejercicios evaluables."
   ]
  },
  {
   "cell_type": "code",
   "execution_count": 2,
   "id": "f7c7c0d1-01aa-41bf-bd5c-b8cbdbf29055",
   "metadata": {},
   "outputs": [],
   "source": [
    "import numpy as np\n",
    "import time\n",
    "import copy\n",
    "import matplotlib.pyplot as plt"
   ]
  },
  {
   "cell_type": "markdown",
   "id": "43b69e4b-f829-46e4-8d7a-6be7072fd1ea",
   "metadata": {},
   "source": [
    "### Implementación de `determinante_recursivo` mediante la definición recursiva de Laplace."
   ]
  },
  {
   "cell_type": "code",
   "execution_count": 4,
   "id": "d7dc3c9a-c942-41c7-8a90-0757961b6a3b",
   "metadata": {},
   "outputs": [],
   "source": [
    "def determinante_recursivo(A):\n",
    "    \"\"\"\n",
    "    Cálculo del determinante de forma recursiva (Laplace).\n",
    "\n",
    "    Entradas:\n",
    "    - A: Matriz (array de Numpy) que se quiere calcular su determinante.\n",
    "\n",
    "    Salidas:\n",
    "    - det: Determinante de la matriz.\n",
    "    \"\"\"\n",
    "    \n",
    "    n = A.shape[0]\n",
    "\n",
    "    # Caso base (matriz 1x1) cuyo resultado es su elemento\n",
    "    if n == 1:\n",
    "        return A[0, 0]\n",
    "    \n",
    "    det = 0\n",
    "    # Se recorre cada índice de columna de la primera fila\n",
    "    for j in range(n): \n",
    "        menor = np.delete(np.delete(A, 0, axis=0), j, axis=1) # Se construye el menor eliminando la primera fila y la columna j\n",
    "        det += (-1) ** (1 + (j + 1)) * A[0, j] * determinante_recursivo(menor) # Se usa la definición de determinante con el método de Laplace con la primera fila\n",
    "        \n",
    "    return det"
   ]
  },
  {
   "cell_type": "markdown",
   "id": "d019e52f-327a-4455-b10d-171abcbcba86",
   "metadata": {},
   "source": [
    "Comprobamos que el algoritmo funciona correctamente:"
   ]
  },
  {
   "cell_type": "code",
   "execution_count": 6,
   "id": "36b327cb-3a1d-4e99-99a3-96582753152d",
   "metadata": {},
   "outputs": [
    {
     "name": "stdout",
     "output_type": "stream",
     "text": [
      "Determinante: 36\n"
     ]
    }
   ],
   "source": [
    "A = np.array([\n",
    "    [2, 3, 1],\n",
    "    [-2, 3, -3],\n",
    "    [1, 3, 3]\n",
    "])\n",
    "\n",
    "print(\"Determinante:\", determinante_recursivo(A))"
   ]
  },
  {
   "cell_type": "markdown",
   "id": "27fbf54d-3015-41f0-b249-caaab23519e4",
   "metadata": {},
   "source": [
    "Comprobamos que si la matriz es triangular entonces el determinante es el producto de los elementos diagonales:"
   ]
  },
  {
   "cell_type": "code",
   "execution_count": 8,
   "id": "91e842ef-8abc-4b86-815c-7d342ab48790",
   "metadata": {},
   "outputs": [
    {
     "name": "stdout",
     "output_type": "stream",
     "text": [
      "Determinante: -18\n"
     ]
    }
   ],
   "source": [
    "B = np.array([\n",
    "    [2, 3, 1],\n",
    "    [0, 3, -3],\n",
    "    [0, 0, -3]\n",
    "])\n",
    "\n",
    "print(\"Determinante:\", determinante_recursivo(B))"
   ]
  },
  {
   "cell_type": "markdown",
   "id": "fbed0a46-ee50-4e6b-abaf-6428b33bfa9e",
   "metadata": {},
   "source": [
    "Comprobamos que permutar dos filas cambia el signo del determinante:"
   ]
  },
  {
   "cell_type": "code",
   "execution_count": 10,
   "id": "7e5487ac-9ffb-4306-a7f4-1de5e0ce1748",
   "metadata": {},
   "outputs": [
    {
     "name": "stdout",
     "output_type": "stream",
     "text": [
      "Determinante: 18\n",
      "Determinante: -18\n"
     ]
    }
   ],
   "source": [
    "C = np.array([\n",
    "    [2, 3, 1],\n",
    "    [0, 0, -3],\n",
    "    [0, 3, -3]\n",
    "])\n",
    "D = np.array([\n",
    "    [2, 3, 1],\n",
    "    [0, 3, -3],\n",
    "    [0, 0, -3]\n",
    "])\n",
    "\n",
    "print(\"Determinante:\", determinante_recursivo(C))\n",
    "print(\"Determinante:\", determinante_recursivo(D))"
   ]
  },
  {
   "cell_type": "markdown",
   "id": "fa92e6e3-bbda-4ff0-b615-d4fe315215d2",
   "metadata": {},
   "source": [
    "### Implementación de `determinante_gauss` mediante el método de eliminación de Gauss con pivote parcial"
   ]
  },
  {
   "cell_type": "code",
   "execution_count": 12,
   "id": "d99f0d9c-c3fb-4f3c-8817-db85f35f57cf",
   "metadata": {},
   "outputs": [],
   "source": [
    "def escalonar_gauss(A):\n",
    "    \"\"\"\n",
    "    Escalona una matriz con el método de eliminación de Gauss con pivote parcial.\n",
    "\n",
    "    Entradas:\n",
    "    - A: Matriz (array de Numpy) que se quiere escalonar.\n",
    "\n",
    "    Salidas:\n",
    "    - M: Matriz escalonada (array de Numpy).\n",
    "    - signo: Signo del número de intercambios de filas realizados (+1 un número par, -1 un número impar, 0 si la matriz es singular). Útil para el cálculo del determinante.\n",
    "    \"\"\"\n",
    "    \n",
    "    M = A.copy()\n",
    "    n = M.shape[0]\n",
    "    signo = 1\n",
    "\n",
    "    # Se recorren las columnas de la matriz para realizar el escalonado\n",
    "    for k in range(n):\n",
    "        maximo = np.argmax(np.abs(M[k:, k])) + k # Se selecciona el pivote (máximo absoluto)\n",
    "\n",
    "        # Se tiene en cuenta si la matriz es singular\n",
    "        if np.isclose(M[maximo, k], 0):\n",
    "            return M, 0 \n",
    "            \n",
    "        # Se produce el intercambio de filas según el pivote (si es necesario)\n",
    "        if maximo != k:\n",
    "            fila_temp = M[k].copy()\n",
    "            M[k] = M[maximo]\n",
    "            M[maximo] = fila_temp\n",
    "            signo *= -1\n",
    "\n",
    "        # Se producen los cálculos para las anulaciones debajo del pivote\n",
    "        for i in range(k + 1, n):\n",
    "            factor = M[i, k] / M[k, k]\n",
    "            for j in range(k, n):\n",
    "                M[i, j] -= factor * M[k, j]\n",
    "\n",
    "    return M, signo\n",
    "\n",
    "def determinante_gauss(A):\n",
    "    \"\"\"\n",
    "    Cálculo del determinante con el método de eliminación de Gauss con pivote parcial.\n",
    "\n",
    "    Entradas:\n",
    "    - A: Matriz (array de Numpy) que se quiere calcular su determinante.\n",
    "\n",
    "    Salidas:\n",
    "    - det: Determinante de la matriz.\n",
    "    \"\"\"\n",
    "    \n",
    "    M_escalonada, signo = escalonar_gauss(A) # Se invoca el método de Gauss con pivote parcial para escalonar la matriz\n",
    "\n",
    "    # Caso especial en el que la matriz es singular y el determinante es nulo\n",
    "    if signo == 0: \n",
    "        return 0\n",
    "\n",
    "    det = signo\n",
    "    n = M_escalonada.shape[0]\n",
    "    # Se recorren los elementos de la diagonal de la matriz para calcular el determinante\n",
    "    for i in range(n):\n",
    "        det *= M_escalonada[i, i]\n",
    "\n",
    "    return det"
   ]
  },
  {
   "cell_type": "code",
   "execution_count": 13,
   "id": "0f6ef991-52d2-4960-929d-b21fdf2ad410",
   "metadata": {},
   "outputs": [
    {
     "name": "stdout",
     "output_type": "stream",
     "text": [
      "Determinante: 6\n"
     ]
    }
   ],
   "source": [
    "E = np.array([\n",
    "    [2, 3, 1],\n",
    "    [1, 1, -3],\n",
    "    [1, 3, -3]\n",
    "])\n",
    "\n",
    "print(\"Determinante:\", determinante_gauss(E))"
   ]
  },
  {
   "cell_type": "markdown",
   "id": "c8f2de97-f299-4502-b19a-cc68fbe09044",
   "metadata": {},
   "source": [
    "### Implementación de `compara_metodos` para hacer la comparación de diferentes métodos"
   ]
  },
  {
   "cell_type": "code",
   "execution_count": 15,
   "id": "72370d8c-5210-4b20-8520-f82f1b1c71cc",
   "metadata": {},
   "outputs": [],
   "source": [
    "def compara_metodos(min_n, max_n):\n",
    "    \"\"\"\n",
    "    Cálculo de los tiempos de ejecución de 'determinante_recursivo', 'determinante_gauss' y 'np.linalg.det' para un rango de matrices aleatorias de unas determinadas dimensiones.\n",
    "\n",
    "    Entradas:\n",
    "    - min_n: Número de filas (o columnas) de la matriz más pequeña a evaluar.\n",
    "    - max_n: Número de filas (o columnas) de la matriz más grande a evaluar.\n",
    "    Salidas:\n",
    "    - tiempos_rec: Lista de los tiempos de ejecución de 'determinante_recursivo' desde 'min_n' hasta 'max_n'.\n",
    "    - tiempos_gauss: Lista de los tiempos de ejecución de 'determinante_gauss' desde 'min_n' hasta 'max_n'.\n",
    "    - tiempos_numpy: Lista de los tiempos de ejecución de 'np.linalg.det' desde 'min_n' hasta 'max_n'.\n",
    "    \"\"\"\n",
    "    \n",
    "    tiempos_rec = []\n",
    "    tiempos_gauss = []\n",
    "    tiempos_numpy = []\n",
    "\n",
    "    # Se recorren las dimensiones de las matrices que se quiere evaluar\n",
    "    for n in range(min_n, max_n + 1):\n",
    "        A = np.random.rand(n, n) # Se genera una matriz con valores aleatorios\n",
    "\n",
    "        # Método recursivo\n",
    "        inicio = time.perf_counter()\n",
    "        determinante_recursivo(A)\n",
    "        tiempo_rec = time.perf_counter() - inicio\n",
    "        tiempos_rec.append(tiempo_rec)\n",
    "\n",
    "        # Método con Gauss\n",
    "        inicio = time.perf_counter()\n",
    "        determinante_gauss(A)\n",
    "        tiempo_gauss = time.perf_counter() - inicio\n",
    "        tiempos_gauss.append(tiempo_gauss)\n",
    "\n",
    "        # Método con Numpy\n",
    "        inicio = time.perf_counter()\n",
    "        np.linalg.det(A)\n",
    "        tiempo_numpy = time.perf_counter() - inicio\n",
    "        tiempos_numpy.append(tiempo_numpy)\n",
    "\n",
    "    return tiempos_rec, tiempos_gauss, tiempos_numpy"
   ]
  },
  {
   "cell_type": "markdown",
   "id": "1a768ea7-874c-4501-8462-f6666c212ac8",
   "metadata": {},
   "source": [
    "Creación y representación de los tiempos con los diferentes métodos:"
   ]
  },
  {
   "cell_type": "code",
   "execution_count": 17,
   "id": "1e6d0fd4-f917-4bb6-8543-2a8b83c1090f",
   "metadata": {},
   "outputs": [
    {
     "name": "stdout",
     "output_type": "stream",
     "text": [
      "Tiempos con recursividad:  [0.00013780000153928995, 0.00010840001050382853, 0.0010186000145040452, 0.002657499979250133, 0.007925499987322837, 0.04650060000130907, 0.48997250001411885, 10.609053099993616, 109.45034949999535]\n",
      "Tiempos con Gauss:  [0.00023850001161918044, 0.0008419000077992678, 0.0004474999732337892, 0.00032569997711107135, 0.0003913000109605491, 0.0002463000128045678, 0.0008842000388540328, 0.0011122000287286937, 0.0011248999508097768]\n",
      "Tiempos con Numpy:  [0.0002701999619603157, 8.729996625334024e-05, 3.659998765215278e-05, 3.419996937736869e-05, 2.7500034775584936e-05, 3.220001235604286e-05, 5.859998054802418e-05, 7.98000255599618e-05, 5.740002961829305e-05]\n"
     ]
    },
    {
     "data": {
      "image/png": "[encoded data removed]",
      "text/plain": [
       "<Figure size 640x480 with 1 Axes>"
      ]
     },
     "metadata": {},
     "output_type": "display_data"
    }
   ],
   "source": [
    "min_n, max_n = 2, 10\n",
    "rec, gauss, numpy_times = compara_metodos(min_n, max_n)\n",
    "\n",
    "print(\"Tiempos con recursividad: \", rec)\n",
    "print(\"Tiempos con Gauss: \", gauss)\n",
    "print(\"Tiempos con Numpy: \", numpy_times)\n",
    "\n",
    "# Lista con desde el valor mínimo y máximo de dimensión de las matrices\n",
    "ns = list(range(min_n, max_n + 1))\n",
    "\n",
    "# Representación gráfica\n",
    "plt.plot(ns, rec, marker='o', label='Recursivo')\n",
    "plt.plot(ns, gauss, marker='s', label='Gauss')\n",
    "plt.plot(ns, numpy_times, marker='^', label='Numpy')\n",
    "plt.xlabel(\"Tamaño de la matriz\")\n",
    "plt.ylabel(\"Tiempo (s)\")\n",
    "plt.title(\"Comparativa de tiempos de cálculo de determinante\")\n",
    "plt.legend()\n",
    "plt.grid(True)\n",
    "plt.show()"
   ]
  },
  {
   "cell_type": "markdown",
   "id": "51fb0030-4ffa-488a-9508-b8ec48aafc85",
   "metadata": {},
   "source": [
    "### Implementación de `gradiente_descendente` para realizar el método del descenso del gradiente"
   ]
  },
  {
   "cell_type": "code",
   "execution_count": 19,
   "id": "10debfaa-f29c-4adf-8775-7b539830d6f9",
   "metadata": {},
   "outputs": [],
   "source": [
    "def gradiente_descendente(grad_f, x0, gamma, tol, maxit):\n",
    "    \"\"\"\n",
    "    Método de descenso de gradiente para minimizar una función con el gradiente definido.\n",
    "\n",
    "    Entradas:\n",
    "    - grad_f: Función que recibe un vector 'x' y devuelve el gradiente de la función evaluado en 'x'.\n",
    "    - x0: Punto inicial (array de Numpy).\n",
    "    - gamma: Ratio de aprendizaje.\n",
    "    - tol: Tolerancia para la norma del gradiente.\n",
    "    - maxit: Número máximo de iteraciones.\n",
    "    Salidas:\n",
    "    - x: Punto resultante (array de Numpy) donde el gradiente es casi nulo (mínimo).\n",
    "    \"\"\"\n",
    "    \n",
    "    x = x0.copy()\n",
    "\n",
    "    # Se itera en cada paso para actualizar la solución\n",
    "    for i in range(int(maxit)):\n",
    "        grad = grad_f(x)\n",
    "        norm_grad = np.linalg.norm(grad)\n",
    "\n",
    "        # Se analiza si se ha cruzado una determinada tolerancia\n",
    "        if norm_grad < tol: \n",
    "            return x\n",
    "        \n",
    "        x = x - gamma * grad # Expresión del gradiente descendente\n",
    "    return x"
   ]
  },
  {
   "cell_type": "markdown",
   "id": "c37d90f1-ed04-4735-9574-460b87f1dc6e",
   "metadata": {},
   "source": [
    "### Implementación del descenso del gradiente con una determinada función unidimensional"
   ]
  },
  {
   "cell_type": "code",
   "execution_count": 21,
   "id": "4e2a5fc4-04ca-4bbb-9bb6-c88c8f04fa16",
   "metadata": {},
   "outputs": [],
   "source": [
    "def f(x):\n",
    "    \"\"\"\n",
    "    Cálculo del valor de una función en un punto.\n",
    "\n",
    "    f(x) = 3x^4 + 4x^3 - 12x^2 + 7\n",
    "\n",
    "    Entradas:\n",
    "    - x: Punto (array de Numpy).\n",
    "\n",
    "    Salidas:\n",
    "    - value: Valor de la función en el punto.\n",
    "    \"\"\"    \n",
    "\n",
    "    value = 3 * x[0]**4 + 4 * x[0]**3 - 12 * x[0]**2 + 7\n",
    "    return value\n",
    "\n",
    "def grad_f(x):\n",
    "    \"\"\"\n",
    "    Cálculo del gradiente de una función en un punto.\n",
    "\n",
    "    f(x) = 3x^4 + 4x^3 - 12x^2 + 7\n",
    "\n",
    "    Entradas:\n",
    "    - x: Punto (array de Numpy).\n",
    "\n",
    "    Salidas:\n",
    "    - grad: Vector (array de Numpy) gradiente en el punto.\n",
    "    \"\"\"\n",
    "    \n",
    "    grad_x = 12 * x[0]**3 + 12 * x[0]**2 - 24 * x[0]\n",
    "    \n",
    "    grad = np.array([grad_x])\n",
    "    return grad"
   ]
  },
  {
   "cell_type": "markdown",
   "id": "3d3b31dd-b688-4b3d-a690-8136fca9e31b",
   "metadata": {},
   "source": [
    "Ejecutamos el método del descenso del gradiente con diferentes configuraciones iniciales:"
   ]
  },
  {
   "cell_type": "code",
   "execution_count": 23,
   "id": "ce04fa32-fc5d-4687-9cb2-401cd989ece9",
   "metadata": {},
   "outputs": [
    {
     "name": "stdout",
     "output_type": "stream",
     "text": [
      "Solución encontrada: [1.]\n",
      "Imagen de la solución encontrada: 2.0\n"
     ]
    }
   ],
   "source": [
    "x0 = np.array([3]) # Punto inicial\n",
    "gamma = 0.001 # Tasa de aprendizaje\n",
    "tol = 1e-12 # Tolerancia\n",
    "maxit = 1e5 # Número máximo de iteraciones\n",
    "\n",
    "sol = gradiente_descendente(grad_f, x0, gamma, tol, maxit)\n",
    "print(\"Solución encontrada:\", sol)\n",
    "print(\"Imagen de la solución encontrada:\", f(sol))"
   ]
  },
  {
   "cell_type": "code",
   "execution_count": 24,
   "id": "a846896b-112c-4cc5-8479-aca57d9b335d",
   "metadata": {},
   "outputs": [
    {
     "name": "stdout",
     "output_type": "stream",
     "text": [
      "Solución encontrada: [-2.]\n",
      "Imagen de la solución encontrada: -24.999999999999996\n"
     ]
    }
   ],
   "source": [
    "x0 = np.array([3]) # Punto inicial\n",
    "gamma = 0.01 # Tasa de aprendizaje\n",
    "tol = 1e-12 # Tolerancia\n",
    "maxit = 1e5 # Número máximo de iteraciones\n",
    "\n",
    "sol = gradiente_descendente(grad_f, x0, gamma, tol, maxit)\n",
    "print(\"Solución encontrada:\", sol)\n",
    "print(\"Imagen de la solución encontrada:\", f(sol))"
   ]
  },
  {
   "cell_type": "code",
   "execution_count": 25,
   "id": "9e91cb3d-02b2-4e55-ad47-8f9d0b938d38",
   "metadata": {},
   "outputs": [
    {
     "name": "stderr",
     "output_type": "stream",
     "text": [
      "C:\\Users\\alexc\\AppData\\Local\\Temp\\ipykernel_1776\\3096613117.py:30: RuntimeWarning: overflow encountered in scalar power\n",
      "  grad_x = 12 * x[0]**3 + 12 * x[0]**2 - 24 * x[0]\n",
      "C:\\Users\\alexc\\AppData\\Local\\Temp\\ipykernel_1776\\3096613117.py:30: RuntimeWarning: invalid value encountered in scalar subtract\n",
      "  grad_x = 12 * x[0]**3 + 12 * x[0]**2 - 24 * x[0]\n"
     ]
    },
    {
     "name": "stdout",
     "output_type": "stream",
     "text": [
      "Solución encontrada: [nan]\n",
      "Imagen de la solución encontrada: nan\n"
     ]
    }
   ],
   "source": [
    "x0 = np.array([3]) # Punto inicial\n",
    "gamma = 0.1 # Tasa de aprendizaje\n",
    "tol = 1e-12 # Tolerancia\n",
    "maxit = 1e5 # Número máximo de iteraciones\n",
    "\n",
    "sol = gradiente_descendente(grad_f, x0, gamma, tol, maxit)\n",
    "print(\"Solución encontrada:\", sol)\n",
    "print(\"Imagen de la solución encontrada:\", f(sol))"
   ]
  },
  {
   "cell_type": "code",
   "execution_count": 26,
   "id": "3a309b4e-647d-495c-9574-30296cf5675e",
   "metadata": {},
   "outputs": [
    {
     "name": "stdout",
     "output_type": "stream",
     "text": [
      "Solución encontrada: [0]\n",
      "Imagen de la solución encontrada: 7\n"
     ]
    }
   ],
   "source": [
    "x0 = np.array([0]) # Punto inicial\n",
    "gamma = 0.001 # Tasa de aprendizaje\n",
    "tol = 1e-12 # Tolerancia\n",
    "maxit = 1e5 # Número máximo de iteraciones\n",
    "\n",
    "sol = gradiente_descendente(grad_f, x0, gamma, tol, maxit)\n",
    "print(\"Solución encontrada:\", sol)\n",
    "print(\"Imagen de la solución encontrada:\", f(sol))"
   ]
  },
  {
   "cell_type": "markdown",
   "id": "fe1c9d1d-9a26-4e4a-9324-2c74a01b499a",
   "metadata": {},
   "source": [
    "### Implementación del descenso del gradiente con una determinada función bidimensional"
   ]
  },
  {
   "cell_type": "code",
   "execution_count": 28,
   "id": "67546001-2610-409c-835b-dc9c0641d188",
   "metadata": {},
   "outputs": [],
   "source": [
    "def g(x):\n",
    "    \"\"\"\n",
    "    Cálculo del valor de una función en un punto.\n",
    "\n",
    "    g(x, y) = x^2 + y^3 + 3xy + 1\n",
    "\n",
    "    Entradas:\n",
    "    - x: Punto (array de Numpy).\n",
    "\n",
    "    Salidas:\n",
    "    - value: Valor de la función en el punto.\n",
    "    \"\"\"    \n",
    "\n",
    "    value = x[0]**2 + x[1]**3 + 3 * x[0] * x[1] + 1\n",
    "    return value\n",
    "\n",
    "def grad_g(x):\n",
    "    \"\"\"\n",
    "    Cálculo del gradiente de una función en un punto.\n",
    "\n",
    "    g(x, y) = x^2 + y^3 + 3xy + 1\n",
    "\n",
    "    Entradas:\n",
    "    - x: Punto (array de Numpy).\n",
    "\n",
    "    Salidas:\n",
    "    - grad: Vector (array de Numpy) gradiente en el punto.\n",
    "    \"\"\"\n",
    "    \n",
    "    grad_x = 2 * x[0] + 3 * x[1]\n",
    "    grad_y = 3 * x[1]**2 + 3 * x[0]\n",
    "    \n",
    "    grad = np.array([grad_x, grad_y])\n",
    "    return grad"
   ]
  },
  {
   "cell_type": "markdown",
   "id": "25d7654d-6da1-4b1e-9f1b-15ad8106858b",
   "metadata": {},
   "source": [
    "Ejecutamos el método del descenso del gradiente con diferentes configuraciones iniciales:"
   ]
  },
  {
   "cell_type": "code",
   "execution_count": 30,
   "id": "1eb1028b-1078-45cc-9f3e-0fb1457e157d",
   "metadata": {},
   "outputs": [
    {
     "name": "stdout",
     "output_type": "stream",
     "text": [
      "Solución encontrada: [-2.25  1.5 ]\n",
      "Imagen de la solución encontrada: -0.6875\n"
     ]
    }
   ],
   "source": [
    "x0 = np.array([-1, 1]) # Punto inicial\n",
    "gamma = 0.01 # Tasa de aprendizaje\n",
    "tol = 1e-12 # Tolerancia\n",
    "maxit = 1e5 # Número máximo de iteraciones\n",
    "\n",
    "sol = gradiente_descendente(grad_g, x0, gamma, tol, maxit)\n",
    "print(\"Solución encontrada:\", sol)\n",
    "print(\"Imagen de la solución encontrada:\", g(sol))"
   ]
  },
  {
   "cell_type": "code",
   "execution_count": 31,
   "id": "1a2e7fde-bb09-488c-a228-a197bd847ab3",
   "metadata": {},
   "outputs": [
    {
     "name": "stdout",
     "output_type": "stream",
     "text": [
      "Solución encontrada: [0 0]\n",
      "Imagen de la solución encontrada: 1\n"
     ]
    }
   ],
   "source": [
    "x0 = np.array([0, 0]) # Punto inicial\n",
    "gamma = 0.01 # Tasa de aprendizaje\n",
    "tol = 1e-12 # Tolerancia\n",
    "maxit = 1e5 # Número máximo de iteraciones\n",
    "\n",
    "sol = gradiente_descendente(grad_g, x0, gamma, tol, maxit)\n",
    "print(\"Solución encontrada:\", sol)\n",
    "print(\"Imagen de la solución encontrada:\", g(sol))"
   ]
  }
 ],
 "metadata": {
  "kernelspec": {
   "display_name": "Python [conda env:base] *",
   "language": "python",
   "name": "conda-base-py"
  },
  "language_info": {
   "codemirror_mode": {
    "name": "ipython",
    "version": 3
   },
   "file_extension": ".py",
   "mimetype": "text/x-python",
   "name": "python",
   "nbconvert_exporter": "python",
   "pygments_lexer": "ipython3",
   "version": "3.11.7"
  }
 },
 "nbformat": 4,
 "nbformat_minor": 5
}
